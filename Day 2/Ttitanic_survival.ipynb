{
 "cells": [
  {
   "cell_type": "markdown",
   "id": "4c0a2b2a",
   "metadata": {},
   "source": [
    "# 🚢 Day 2: Titanic - Survival Prediction\n",
    "\n",
    "📌 **Goal**  \n",
    "Build a machine learning model that can predict whether a passenger survived the Titanic disaster based on passenger data such as age, gender, ticket class, and more."
   ]
  },
  {
   "cell_type": "code",
   "execution_count": 2,
   "id": "8cfb73d0",
   "metadata": {},
   "outputs": [],
   "source": [
    "# Step 1: Import necessary libraries\n",
    "import pandas as pd\n",
    "import seaborn as sns\n",
    "import matplotlib.pyplot as plt\n",
    "\n",
    "from sklearn.model_selection import train_test_split\n",
    "from sklearn.linear_model import LogisticRegression\n",
    "from sklearn.metrics import classification_report, confusion_matrix\n",
    "from sklearn.preprocessing import LabelEncoder\n"
   ]
  },
  {
   "cell_type": "code",
   "execution_count": null,
   "id": "d20367ba",
   "metadata": {},
   "outputs": [],
   "source": []
  }
 ],
 "metadata": {
  "kernelspec": {
   "display_name": "venv",
   "language": "python",
   "name": "python3"
  },
  "language_info": {
   "codemirror_mode": {
    "name": "ipython",
    "version": 3
   },
   "file_extension": ".py",
   "mimetype": "text/x-python",
   "name": "python",
   "nbconvert_exporter": "python",
   "pygments_lexer": "ipython3",
   "version": "3.9.13"
  }
 },
 "nbformat": 4,
 "nbformat_minor": 5
}
