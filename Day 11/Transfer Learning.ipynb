{
 "cells": [
  {
   "cell_type": "markdown",
   "id": "6aadf8ea",
   "metadata": {},
   "source": [
    "# 🧠 Day 11 – Image Classification with Transfer Learning\n",
    "\n",
    " 📌 In this project, we aim to:\n",
    " - Use a pretrained CNN (like VGG16 or ResNet50) for image classification.\n",
    " - Learn how to freeze layers and fine-tune top layers.\n",
    " - Load image data using ImageDataGenerator.\n",
    " - Evaluate performance using accuracy, loss, and confusion matrix.\n",
    " ✅ We’ll use a subset of the Dogs vs Cats dataset.\n"
   ]
  },
  {
   "cell_type": "code",
   "execution_count": 15,
   "id": "4e1d29e5",
   "metadata": {},
   "outputs": [],
   "source": [
    "# ✅ Step 1: Import Required Libraries\n",
    "import os\n",
    "import numpy as np\n",
    "import matplotlib.pyplot as plt\n",
    "import tensorflow as tf\n",
    "from tensorflow.keras.applications import VGG16\n",
    "from tensorflow.keras.models import Model\n",
    "from tensorflow.keras.layers import Dense, Flatten, Dropout\n",
    "from tensorflow.keras.optimizers import Adam\n",
    "from tensorflow.keras.preprocessing.image import ImageDataGenerator"
   ]
  },
  {
   "cell_type": "code",
   "execution_count": 8,
   "id": "c0ca8541",
   "metadata": {},
   "outputs": [
    {
     "name": "stdout",
     "output_type": "stream",
     "text": [
      "Current working directory: d:\\Programming\\Machine-Learning\\Day 11\n",
      "Folders in current directory:\n",
      "['cats_and_dogs_filtered', 'Transfer Learning.ipynb']\n"
     ]
    }
   ],
   "source": [
    "print(\"Current working directory:\", os.getcwd())\n",
    "print(\"Folders in current directory:\")\n",
    "print(os.listdir())"
   ]
  },
  {
   "cell_type": "code",
   "execution_count": 14,
   "id": "a9b9ed4d",
   "metadata": {},
   "outputs": [
    {
     "name": "stdout",
     "output_type": "stream",
     "text": [
      "✅ Train Cats: ['cat.0.jpg', 'cat.1.jpg', 'cat.10.jpg', 'cat.100.jpg', 'cat.101.jpg']\n",
      "✅ Train Dogs: ['dog.0.jpg', 'dog.1.jpg', 'dog.10.jpg', 'dog.100.jpg', 'dog.101.jpg']\n"
     ]
    }
   ],
   "source": [
    "# Correct base directory (based on confirmed structure)\n",
    "base_dir = os.path.join(os.getcwd(), 'cats_and_dogs_filtered')\n",
    "train_dir = os.path.join(base_dir, 'train')\n",
    "val_dir = os.path.join(base_dir, 'validation')\n",
    "\n",
    "# Confirm folder contents\n",
    "print(\"✅ Train Cats:\", os.listdir(os.path.join(train_dir, 'cats'))[:5])\n",
    "print(\"✅ Train Dogs:\", os.listdir(os.path.join(train_dir, 'dogs'))[:5])\n"
   ]
  },
  {
   "cell_type": "code",
   "execution_count": null,
   "id": "16c4d4d4",
   "metadata": {},
   "outputs": [],
   "source": []
  }
 ],
 "metadata": {
  "kernelspec": {
   "display_name": "venv",
   "language": "python",
   "name": "python3"
  },
  "language_info": {
   "codemirror_mode": {
    "name": "ipython",
    "version": 3
   },
   "file_extension": ".py",
   "mimetype": "text/x-python",
   "name": "python",
   "nbconvert_exporter": "python",
   "pygments_lexer": "ipython3",
   "version": "3.9.13"
  }
 },
 "nbformat": 4,
 "nbformat_minor": 5
}
