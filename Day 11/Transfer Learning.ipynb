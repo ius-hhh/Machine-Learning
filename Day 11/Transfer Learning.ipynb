{
 "cells": [
  {
   "cell_type": "markdown",
   "id": "6aadf8ea",
   "metadata": {},
   "source": [
    "# 🧠 Day 11 – Image Classification with Transfer Learning\n",
    "\n",
    " 📌 In this project, we aim to:\n",
    " - Use a pretrained CNN (like VGG16 or ResNet50) for image classification.\n",
    " - Learn how to freeze layers and fine-tune top layers.\n",
    " - Load image data using ImageDataGenerator.\n",
    " - Evaluate performance using accuracy, loss, and confusion matrix.\n",
    " ✅ We’ll use a subset of the Dogs vs Cats dataset.\n"
   ]
  },
  {
   "cell_type": "code",
   "execution_count": 20,
   "id": "4e1d29e5",
   "metadata": {},
   "outputs": [],
   "source": [
    "# ✅ Step 1: Import Required Libraries\n",
    "import os\n",
    "import numpy as np\n",
    "import matplotlib.pyplot as plt\n",
    "import tensorflow as tf\n",
    "from tensorflow.keras.applications import VGG16\n",
    "from tensorflow.keras.models import Model\n",
    "from tensorflow.keras.layers import Dense, Flatten, Dropout\n",
    "from tensorflow.keras.optimizers import Adam\n",
    "from tensorflow.keras.preprocessing.image import ImageDataGenerator"
   ]
  },
  {
   "cell_type": "code",
   "execution_count": 21,
   "id": "c0ca8541",
   "metadata": {},
   "outputs": [
    {
     "name": "stdout",
     "output_type": "stream",
     "text": [
      "Current working directory: d:\\Programming\\Machine-Learning\\Day 11\n",
      "Folders in current directory:\n",
      "['cats_and_dogs_filtered', 'Transfer Learning.ipynb']\n"
     ]
    }
   ],
   "source": [
    "print(\"Current working directory:\", os.getcwd())\n",
    "print(\"Folders in current directory:\")\n",
    "print(os.listdir())"
   ]
  },
  {
   "cell_type": "code",
   "execution_count": 22,
   "id": "a9b9ed4d",
   "metadata": {},
   "outputs": [
    {
     "name": "stdout",
     "output_type": "stream",
     "text": [
      "✅ Train Cats: ['cat.0.jpg', 'cat.1.jpg', 'cat.10.jpg', 'cat.100.jpg', 'cat.101.jpg']\n",
      "✅ Train Dogs: ['dog.0.jpg', 'dog.1.jpg', 'dog.10.jpg', 'dog.100.jpg', 'dog.101.jpg']\n"
     ]
    }
   ],
   "source": [
    "# Correct base directory (based on confirmed structure)\n",
    "base_dir = os.path.join(os.getcwd(), 'cats_and_dogs_filtered')\n",
    "train_dir = os.path.join(base_dir, 'train')\n",
    "val_dir = os.path.join(base_dir, 'validation')\n",
    "\n",
    "# Confirm folder contents\n",
    "print(\"✅ Train Cats:\", os.listdir(os.path.join(train_dir, 'cats'))[:5])\n",
    "print(\"✅ Train Dogs:\", os.listdir(os.path.join(train_dir, 'dogs'))[:5])\n"
   ]
  },
  {
   "cell_type": "code",
   "execution_count": 23,
   "id": "16c4d4d4",
   "metadata": {},
   "outputs": [
    {
     "name": "stdout",
     "output_type": "stream",
     "text": [
      "Found 2000 images belonging to 2 classes.\n",
      "Found 1000 images belonging to 2 classes.\n"
     ]
    }
   ],
   "source": [
    "# Image size and batch size\n",
    "IMG_SIZE = (160, 160)\n",
    "BATCH_SIZE = 32\n",
    "\n",
    "# Training data generator with rescaling (can augmentation here later)\n",
    "train_datagen = ImageDataGenerator(rescale=1./255)\n",
    "\n",
    "# Validation data generator just rescales\n",
    "val_datagen = ImageDataGenerator(rescale=1./255)\n",
    "\n",
    "# Create train generator\n",
    "train_generator = train_datagen.flow_from_directory(\n",
    "    train_dir,\n",
    "    target_size=IMG_SIZE,\n",
    "    batch_size=BATCH_SIZE,\n",
    "    class_mode='binary'   # because we have two classes (cats and dogs)\n",
    ")\n",
    "\n",
    "# Create validation generator\n",
    "val_generator = val_datagen.flow_from_directory(\n",
    "    val_dir,\n",
    "    target_size=IMG_SIZE,\n",
    "    batch_size=BATCH_SIZE,\n",
    "    class_mode='binary'\n",
    ")\n"
   ]
  },
  {
   "cell_type": "code",
   "execution_count": null,
   "id": "87ba1bb5",
   "metadata": {},
   "outputs": [],
   "source": [
    "from tensorflow.keras.applications import VGG16\n",
    "\n",
    "# Load the VGG16 model, excluding the top classification layer\n",
    "base_model = VGG16(\n",
    "    weights='imagenet',         # Use pretrained weights\n",
    "    include_top=False,          # Do NOT include the dense layers at the top\n",
    "    input_shape=(160, 160, 3)   # Input shape must match our resized images\n",
    ")\n",
    "\n",
    "# Freeze the entire base model so its weights don't change during training\n",
    "base_model.trainable = False\n"
   ]
  },
  {
   "cell_type": "code",
   "execution_count": 25,
   "id": "380b7b35",
   "metadata": {},
   "outputs": [],
   "source": [
    "# Get the output of the base model\n",
    "x = base_model.output\n",
    "\n",
    "# Flatten the 3D feature maps into 1D\n",
    "x = Flatten()(x)\n",
    "\n",
    "# Add a fully connected (dense) layer\n",
    "x = Dense(256, activation='relu')(x)\n",
    "\n",
    "# Add dropout for regularization (prevents overfitting)\n",
    "x = Dropout(0.5)(x)\n",
    "\n",
    "# Add the final output layer (binary classification: cat or dog)\n",
    "predictions = Dense(1, activation='sigmoid')(x)\n",
    "\n",
    "# Create the final model\n",
    "model = Model(inputs=base_model.input, outputs=predictions)\n"
   ]
  },
  {
   "cell_type": "code",
   "execution_count": 26,
   "id": "a233e239",
   "metadata": {},
   "outputs": [],
   "source": [
    "model.compile(\n",
    "    optimizer=Adam(learning_rate=0.0001),\n",
    "    loss='binary_crossentropy',\n",
    "    metrics=['accuracy']\n",
    ")\n"
   ]
  },
  {
   "cell_type": "code",
   "execution_count": 27,
   "id": "29cfdaa4",
   "metadata": {},
   "outputs": [
    {
     "name": "stderr",
     "output_type": "stream",
     "text": [
      "d:\\Programming\\Machine-Learning\\venv\\lib\\site-packages\\keras\\src\\trainers\\data_adapters\\py_dataset_adapter.py:121: UserWarning: Your `PyDataset` class should call `super().__init__(**kwargs)` in its constructor. `**kwargs` can include `workers`, `use_multiprocessing`, `max_queue_size`. Do not pass these arguments to `fit()`, as they will be ignored.\n",
      "  self._warn_if_super_not_called()\n"
     ]
    },
    {
     "name": "stdout",
     "output_type": "stream",
     "text": [
      "Epoch 1/5\n",
      "\u001b[1m63/63\u001b[0m \u001b[32m━━━━━━━━━━━━━━━━━━━━\u001b[0m\u001b[37m\u001b[0m \u001b[1m310s\u001b[0m 5s/step - accuracy: 0.6773 - loss: 0.5969 - val_accuracy: 0.8590 - val_loss: 0.3096\n",
      "Epoch 2/5\n",
      "\u001b[1m63/63\u001b[0m \u001b[32m━━━━━━━━━━━━━━━━━━━━\u001b[0m\u001b[37m\u001b[0m \u001b[1m285s\u001b[0m 5s/step - accuracy: 0.8863 - loss: 0.2749 - val_accuracy: 0.8870 - val_loss: 0.2695\n",
      "Epoch 3/5\n",
      "\u001b[1m63/63\u001b[0m \u001b[32m━━━━━━━━━━━━━━━━━━━━\u001b[0m\u001b[37m\u001b[0m \u001b[1m311s\u001b[0m 5s/step - accuracy: 0.9083 - loss: 0.2207 - val_accuracy: 0.8680 - val_loss: 0.2653\n",
      "Epoch 4/5\n",
      "\u001b[1m63/63\u001b[0m \u001b[32m━━━━━━━━━━━━━━━━━━━━\u001b[0m\u001b[37m\u001b[0m \u001b[1m306s\u001b[0m 5s/step - accuracy: 0.9356 - loss: 0.1699 - val_accuracy: 0.8720 - val_loss: 0.2614\n",
      "Epoch 5/5\n",
      "\u001b[1m63/63\u001b[0m \u001b[32m━━━━━━━━━━━━━━━━━━━━\u001b[0m\u001b[37m\u001b[0m \u001b[1m290s\u001b[0m 5s/step - accuracy: 0.9501 - loss: 0.1449 - val_accuracy: 0.8810 - val_loss: 0.2908\n"
     ]
    }
   ],
   "source": [
    "history = model.fit(\n",
    "    train_generator,\n",
    "    validation_data=val_generator,\n",
    "    epochs=5\n",
    ")\n"
   ]
  },
  {
   "cell_type": "code",
   "execution_count": 28,
   "id": "230ee2d4",
   "metadata": {},
   "outputs": [
    {
     "data": {
      "image/png": "[encoded data removed]",
      "text/plain": [
       "<Figure size 1200x400 with 2 Axes>"
      ]
     },
     "metadata": {},
     "output_type": "display_data"
    }
   ],
   "source": [
    "import matplotlib.pyplot as plt\n",
    "\n",
    "# Plot accuracy\n",
    "plt.figure(figsize=(12, 4))\n",
    "\n",
    "plt.subplot(1, 2, 1)\n",
    "plt.plot(history.history['accuracy'], label='Train Accuracy')\n",
    "plt.plot(history.history['val_accuracy'], label='Validation Accuracy')\n",
    "plt.title(\"Model Accuracy\")\n",
    "plt.xlabel(\"Epoch\")\n",
    "plt.ylabel(\"Accuracy\")\n",
    "plt.legend()\n",
    "\n",
    "# Plot loss\n",
    "plt.subplot(1, 2, 2)\n",
    "plt.plot(history.history['loss'], label='Train Loss')\n",
    "plt.plot(history.history['val_loss'], label='Validation Loss')\n",
    "plt.title(\"Model Loss\")\n",
    "plt.xlabel(\"Epoch\")\n",
    "plt.ylabel(\"Loss\")\n",
    "plt.legend()\n",
    "\n",
    "plt.show()\n"
   ]
  },
  {
   "cell_type": "code",
   "execution_count": 29,
   "id": "bb6a9dc2",
   "metadata": {},
   "outputs": [
    {
     "name": "stdout",
     "output_type": "stream",
     "text": [
      "Epoch 1/3\n",
      "\u001b[1m63/63\u001b[0m \u001b[32m━━━━━━━━━━━━━━━━━━━━\u001b[0m\u001b[37m\u001b[0m \u001b[1m331s\u001b[0m 5s/step - accuracy: 0.9530 - loss: 0.1195 - val_accuracy: 0.9080 - val_loss: 0.2404\n",
      "Epoch 2/3\n",
      "\u001b[1m63/63\u001b[0m \u001b[32m━━━━━━━━━━━━━━━━━━━━\u001b[0m\u001b[37m\u001b[0m \u001b[1m307s\u001b[0m 5s/step - accuracy: 0.9845 - loss: 0.0621 - val_accuracy: 0.9030 - val_loss: 0.2317\n",
      "Epoch 3/3\n",
      "\u001b[1m63/63\u001b[0m \u001b[32m━━━━━━━━━━━━━━━━━━━━\u001b[0m\u001b[37m\u001b[0m \u001b[1m328s\u001b[0m 5s/step - accuracy: 0.9867 - loss: 0.0435 - val_accuracy: 0.9180 - val_loss: 0.2142\n"
     ]
    }
   ],
   "source": [
    "# Unfreeze some top layers of VGG16\n",
    "base_model.trainable = True\n",
    "for layer in base_model.layers[:-4]:  # Keep all but last 4 layers frozen\n",
    "    layer.trainable = False\n",
    "\n",
    "# Recompile with low LR\n",
    "model.compile(optimizer=Adam(1e-5), loss='binary_crossentropy', metrics=['accuracy'])\n",
    "\n",
    "# Train again\n",
    "fine_tune_history = model.fit(train_generator, validation_data=val_generator, epochs=3)\n"
   ]
  },
  {
   "cell_type": "code",
   "execution_count": 31,
   "id": "fa617f11",
   "metadata": {},
   "outputs": [
    {
     "name": "stdout",
     "output_type": "stream",
     "text": [
      "\u001b[1m32/32\u001b[0m \u001b[32m━━━━━━━━━━━━━━━━━━━━\u001b[0m\u001b[37m\u001b[0m \u001b[1m86s\u001b[0m 3s/step - accuracy: 0.9230 - loss: 0.2074\n",
      "✅ Final Validation Accuracy: 0.9180\n"
     ]
    }
   ],
   "source": [
    "loss, accuracy = model.evaluate(val_generator)\n",
    "print(f\"✅ Final Validation Accuracy: {accuracy:.4f}\")\n"
   ]
  },
  {
   "cell_type": "code",
   "execution_count": 41,
   "id": "bbd92d69",
   "metadata": {},
   "outputs": [
    {
     "name": "stdout",
     "output_type": "stream",
     "text": [
      "\u001b[1m1/1\u001b[0m \u001b[32m━━━━━━━━━━━━━━━━━━━━\u001b[0m\u001b[37m\u001b[0m \u001b[1m0s\u001b[0m 95ms/step\n",
      "🐶 It's a dog!\n"
     ]
    }
   ],
   "source": [
    "from tensorflow.keras.preprocessing import image\n",
    "\n",
    "img_path = \"test\\\\test6.jpg\"\n",
    "img = image.load_img(img_path, target_size=IMG_SIZE)\n",
    "img_array = image.img_to_array(img) / 255.0\n",
    "img_array = np.expand_dims(img_array, axis=0)\n",
    "\n",
    "prediction = model.predict(img_array)\n",
    "\n",
    "if prediction[0] > 0.5:\n",
    "    print(\"🐶 It's a dog!\")\n",
    "else:\n",
    "    print(\"🐱 It's a cat!\")"
   ]
  },
  {
   "cell_type": "code",
   "execution_count": null,
   "id": "41ca0656",
   "metadata": {},
   "outputs": [],
   "source": [
    "# To save model if you are satisfied with the result\n",
    "model.save(\"cats_vs_dogs_model.h5\")\n",
    "\n",
    "# To load the model afterwards\n",
    "from tensorflow.keras.models import load_model\n",
    "model = load_model(\"cats_vs_dogs_model.h5\")\n"
   ]
  }
 ],
 "metadata": {
  "kernelspec": {
   "display_name": "venv",
   "language": "python",
   "name": "python3"
  },
  "language_info": {
   "codemirror_mode": {
    "name": "ipython",
    "version": 3
   },
   "file_extension": ".py",
   "mimetype": "text/x-python",
   "name": "python",
   "nbconvert_exporter": "python",
   "pygments_lexer": "ipython3",
   "version": "3.9.13"
  }
 },
 "nbformat": 4,
 "nbformat_minor": 5
}
