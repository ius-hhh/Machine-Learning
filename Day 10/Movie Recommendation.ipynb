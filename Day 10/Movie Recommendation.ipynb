{
 "cells": [
  {
   "cell_type": "markdown",
   "id": "a787d0d1",
   "metadata": {},
   "source": [
    "# 🎬 Day 10 – Movie Recommendation System\n",
    "\n",
    "📌 Objectives:\n",
    "* Build a simple movie recommender using collaborative filtering.\n",
    "* Use cosine similarity on user-movie ratings matrix.\n",
    "* Recommend similar movies based on rating patterns."
   ]
  }
 ],
 "metadata": {
  "language_info": {
   "name": "python"
  }
 },
 "nbformat": 4,
 "nbformat_minor": 5
}
