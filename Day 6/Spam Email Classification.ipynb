{
 "cells": [
  {
   "cell_type": "markdown",
   "id": "4b705a4f",
   "metadata": {},
   "source": [
    "# 🗣️ Day 6 - Spam Email Detection with NLP\n",
    "\n",
    "In this project, we’ll build a text classification model that detects whether an email (or SMS) is **spam** or **ham (not spam)** using real-world text data."
   ]
  },
  {
   "cell_type": "code",
   "execution_count": null,
   "id": "330769fc",
   "metadata": {
    "vscode": {
     "languageId": "plaintext"
    }
   },
   "outputs": [],
   "source": []
  }
 ],
 "metadata": {
  "language_info": {
   "name": "python"
  }
 },
 "nbformat": 4,
 "nbformat_minor": 5
}
